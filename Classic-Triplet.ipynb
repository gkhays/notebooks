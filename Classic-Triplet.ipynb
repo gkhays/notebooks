{
 "cells": [
  {
   "cell_type": "markdown",
   "metadata": {},
   "source": [
    "# A Classic Triplet\n",
    "\n",
    "February 8, 2018\n",
    "\n",
    "From Scott's description:\n",
    "\n",
    ">Thursday night's endurance workout is a classic triplet: run, deadlifts, situps. Descending reps of each movement.\n",
    "\n",
    "The workout.\n",
    "\n",
    "|Round|Run|Deadlift|Sit-ups|\n",
    "|-|-|-|-|\n",
    "|1|800 m|27|54|\n",
    "|2|600 m|21|42|\n",
    "|3|400 m|15|30|\n",
    "|4|200 m|9|18|"
   ]
  },
  {
   "cell_type": "code",
   "execution_count": 6,
   "metadata": {},
   "outputs": [
    {
     "data": {
      "text/html": [
       "<style>\n",
       "table {float:left}\n",
       "</style>"
      ],
      "text/plain": [
       "<IPython.core.display.HTML object>"
      ]
     },
     "metadata": {},
     "output_type": "display_data"
    }
   ],
   "source": [
    "%%html\n",
    "<style>\n",
    "  table {float:left}\n",
    "</style>"
   ]
  },
  {
   "cell_type": "markdown",
   "metadata": {},
   "source": [
    "The visualization needs work but the arrangement of repetitions appealed to me since the deadlifts are multiples of 3: 9, 7, 5, and 3 decreasingly or 3, 5, 7, and 9 successively, depending upon which side of the pyramid from which you start. Also note the multiples are odd numbers. Furthermore, the sit-ups are the double of each corresponsing deadlift exercise.\n",
    "\n",
    "Mixing units skews the bar chart, so perhaps a double-stacked bar chart that displays the distance in meters contrasted with the repetitions for each exercise."
   ]
  },
  {
   "cell_type": "code",
   "execution_count": 4,
   "metadata": {},
   "outputs": [
    {
     "data": {
      "text/plain": [
       "[Text(0,0,'Round 1'),\n",
       " Text(0,0,'Round 2'),\n",
       " Text(0,0,'Round 3'),\n",
       " Text(0,0,'Round 4')]"
      ]
     },
     "execution_count": 4,
     "metadata": {},
     "output_type": "execute_result"
    },
    {
     "data": {
      "image/png": "[encoded data removed]",
      "text/plain": [
       "<matplotlib.figure.Figure at 0x203789e4518>"
      ]
     },
     "metadata": {},
     "output_type": "display_data"
    }
   ],
   "source": [
    "import pandas as pd\n",
    "import matplotlib.pyplot as plt\n",
    "\n",
    "a = [800,600,400,200]\n",
    "b = [27,21,15,9]\n",
    "c = [54,42,30,18]\n",
    "df = pd.DataFrame({'1-Run' : a,'2-Deadlift' : b, '3-Sit Ups' : c})\n",
    "ax = df.plot.barh(stacked=True);\n",
    "\n",
    "y_labels = [\"Round 1\",\"Round 2\",\"Round 3\",\"Round 4\"]\n",
    "\n",
    "ax.figure.set_size_inches(6,6)\n",
    "ax.set_title(\"Exercises\")\n",
    "ax.legend(loc='upper right')\n",
    "ax.set_xlabel(\"Meters/Reps\")\n",
    "ax.set_yticklabels(y_labels)"
   ]
  }
 ],
 "metadata": {
  "kernelspec": {
   "display_name": "Python 3",
   "language": "python",
   "name": "python3"
  },
  "language_info": {
   "codemirror_mode": {
    "name": "ipython",
    "version": 3
   },
   "file_extension": ".py",
   "mimetype": "text/x-python",
   "name": "python",
   "nbconvert_exporter": "python",
   "pygments_lexer": "ipython3",
   "version": "3.6.4"
  }
 },
 "nbformat": 4,
 "nbformat_minor": 2
}
