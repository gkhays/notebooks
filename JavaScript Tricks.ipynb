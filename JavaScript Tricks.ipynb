{
 "cells": [
  {
   "cell_type": "markdown",
   "metadata": {},
   "source": [
    "# JavaScript Tricks in a Jupyter Notebook\n",
    "\n",
    "Normally I use [JSFiddle](https://jsfiddle.net/) to mock up JavaScript concepts but at work we use Jupyter Notebooks for design and documentation so it is handy to be able to demonstrate new web client features within a particular notebook.\n",
    "\n",
    "### Custom CSS\n",
    "\n",
    "Use `%%html` cell magic, e.g.\n",
    "\n",
    "```html\n",
    "%%html\n",
    "<style>\n",
    "    .clearfix {\n",
    "        overflow: auto;\n",
    "    }\n",
    "</style>\n",
    "```\n",
    "\n",
    "Using Python.\n",
    "\n",
    "```python\n",
    "from IPython.core.display import HTML\n",
    "\n",
    "def _set_css_style(css_file_path):\n",
    "   \"\"\"\n",
    "   Read the custom CSS file and load it into Jupyter.\n",
    "   Pass the file path to the CSS file.\n",
    "   \"\"\"\n",
    "\n",
    "   styles = open(css_file_path, \"r\").read()\n",
    "   s = '<style>%s</style>' % styles     \n",
    "   return HTML(s)\n",
    "```\n",
    "\n",
    "Then invoke in the notebook with\n",
    "\n",
    "```python\n",
    "set_css_style('css/custom.css')\n",
    "```\n",
    "\n",
    "Alter configuration for all notebooks.\n",
    "\n",
    "```bash\n",
    "~/.jupyter/custom/custom.css\n",
    "~/.jupyter/custom/custom.js\n",
    "```\n",
    "\n",
    "### References\n",
    "\n",
    "1. https://stackoverflow.com/questions/32156248/how-do-i-set-custom-css-for-my-ipython-ihaskell-jupyter-notebook\n",
    "2. https://martinapugliese.github.io/jupyter-customise/\n"
   ]
  },
  {
   "cell_type": "code",
   "execution_count": 1,
   "metadata": {},
   "outputs": [
    {
     "data": {
      "application/javascript": [
       "\n",
       "var styleSheet = jQuery(\"<style type='text/css'>\" +\n",
       "                        \".clearfix{overflow:auto;} \" +\n",
       "                        \".debug-border{border:1px blue dashed;overflow:auto} \" +\n",
       "                        \".div-box{background-color:red; color:white; font-weight:bold; margin: 2px; height:25px; width:200px; text-align:center} \" +\n",
       "                        \".left{float:left;} \" +\n",
       "                        \".light-blue-fill{background-color:lightblue; text-align:center} \" +\n",
       "                        \".redbold{color:#f00; font-weight:bold;} \" +                        \n",
       "                        \"</style>\");\n",
       "\n",
       "var parentDiv = jQuery(\"<div id='parent' class='redbold light-blue-fill debug-border'/>\").text(\"Starting out simple...\");\n",
       "styleSheet.appendTo(parentDiv);\n",
       "element.append(parentDiv);\n",
       "\n",
       "var boxParent = jQuery(\"<div class='clearfix' id='1stRow'/>\");\n",
       "boxParent.addClass(\"clearfix\");\n",
       "element.append(boxParent);\n",
       "\n",
       "var div = jQuery(\"<div class='left div-box'/>\").text(\"No need for <p> tags\");\n",
       "div.addClass(\"left div-box\");\n",
       "div.appendTo(boxParent);\n",
       "\n",
       "// The style sheet is already in the DOM, so we should be able to refer to it \n",
       "// without having to specifically add a class to the div, e.g.\n",
       "// div.addClass(\"div-box\");\n",
       "div = jQuery(\"<div class='left cfblue-box div-box'/>\").text(\"Just another box\");\n",
       "jQuery(\"<style type='text/css'>.cfblue-box{background-color:cornflowerblue;}</style>\").appendTo(div);\n",
       "div.appendTo(boxParent);\n",
       "\n",
       "boxParent = jQuery(\"<div class='clearfix' id='2ndRow'/>\");\n",
       "element.append(boxParent);\n",
       "\n",
       "div = jQuery(\"<div class='left blue-box div-box'/>\").text(\"Even more\");\n",
       "jQuery(\"<style type='text/css'>.blue-box{background-color:blue;}</style>\").appendTo(div);\n",
       "div.appendTo(boxParent);\n",
       "\n",
       "div = jQuery(\"<div class='left orange-box div-box'/>\").text(\"Yet another box\");\n",
       "jQuery(\"<style type='text/css'>.orange-box{background-color:orange;}</style>\").appendTo(div);\n",
       "div.appendTo(boxParent);"
      ],
      "text/plain": [
       "<IPython.core.display.Javascript object>"
      ]
     },
     "metadata": {},
     "output_type": "display_data"
    }
   ],
   "source": [
    "%%javascript\n",
    "\n",
    "var styleSheet = jQuery(\"<style type='text/css'>\" +\n",
    "                        \".clearfix{overflow:auto;} \" +\n",
    "                        \".debug-border{border:1px blue dashed;overflow:auto} \" +\n",
    "                        \".div-box{background-color:red; color:white; font-weight:bold; margin: 2px; height:25px; width:200px; text-align:center} \" +\n",
    "                        \".left{float:left;} \" +\n",
    "                        \".light-blue-fill{background-color:lightblue; text-align:center} \" +\n",
    "                        \".redbold{color:#f00; font-weight:bold;} \" +                        \n",
    "                        \"</style>\");\n",
    "\n",
    "var parentDiv = jQuery(\"<div id='parent' class='redbold light-blue-fill debug-border'/>\").text(\"Starting out simple...\");\n",
    "styleSheet.appendTo(parentDiv);\n",
    "element.append(parentDiv);\n",
    "\n",
    "var boxParent = jQuery(\"<div class='clearfix' id='1stRow'/>\");\n",
    "boxParent.addClass(\"clearfix\");\n",
    "element.append(boxParent);\n",
    "\n",
    "var div = jQuery(\"<div class='left div-box'/>\").text(\"No need for <p> tags\");\n",
    "div.addClass(\"left div-box\");\n",
    "div.appendTo(boxParent);\n",
    "\n",
    "// The style sheet is already in the DOM, so we should be able to refer to it \n",
    "// without having to specifically add a class to the div, e.g.\n",
    "// div.addClass(\"div-box\");\n",
    "div = jQuery(\"<div class='left cfblue-box div-box'/>\").text(\"Just another box\");\n",
    "jQuery(\"<style type='text/css'>.cfblue-box{background-color:cornflowerblue;}</style>\").appendTo(div);\n",
    "div.appendTo(boxParent);\n",
    "\n",
    "boxParent = jQuery(\"<div class='clearfix' id='2ndRow'/>\");\n",
    "element.append(boxParent);\n",
    "\n",
    "div = jQuery(\"<div class='left blue-box div-box'/>\").text(\"Even more\");\n",
    "jQuery(\"<style type='text/css'>.blue-box{background-color:blue;}</style>\").appendTo(div);\n",
    "div.appendTo(boxParent);\n",
    "\n",
    "div = jQuery(\"<div class='left orange-box div-box'/>\").text(\"Yet another box\");\n",
    "jQuery(\"<style type='text/css'>.orange-box{background-color:orange;}</style>\").appendTo(div);\n",
    "div.appendTo(boxParent);"
   ]
  },
  {
   "cell_type": "markdown",
   "metadata": {},
   "source": [
    "## Open a JSON File\n",
    "\n",
    "Use the `<input type=\"file\">` type. In this case, we have constrained it to look for `JSON` files.\n"
   ]
  },
  {
   "cell_type": "code",
   "execution_count": 6,
   "metadata": {},
   "outputs": [
    {
     "data": {
      "text/html": [
       "<script>\n",
       "    var a = {\n",
       "        handleFiles: function (files, source) {\n",
       "            var reader = new FileReader();\n",
       "\n",
       "            reader.onload = (function(files, source) {\n",
       "                return function(e) {\n",
       "                    $('#jsonarea').val(e.target.result);\n",
       "                };\n",
       "            })(files[0]);\n",
       "\n",
       "            reader.readAsText(files[0]);\n",
       "        }\n",
       "    };\n",
       "</script>\n",
       "<p>There are JSON Files for testing in the json folder.</p>\n",
       "<div class=\"load\">\n",
       "    <textarea spellcheck=\"false\" id=\"jsonarea\" placeholder=\"JSON shown here\"></textarea>\n",
       "    <pre id=\"theError\" class=\"error\"></pre>\n",
       "    <span class=\"fileInput\"><input type=\"file\" accept=\".json\" id=\"jsonFile\" onchange=\"a.handleFiles(this.files, 'load')\"></span>\n",
       "</div>"
      ],
      "text/plain": [
       "<IPython.core.display.HTML object>"
      ]
     },
     "metadata": {},
     "output_type": "display_data"
    }
   ],
   "source": [
    "%%html\n",
    "<script>\n",
    "    var a = {\n",
    "        handleFiles: function (files, source) {\n",
    "            var reader = new FileReader();\n",
    "\n",
    "            reader.onload = (function(files, source) {\n",
    "                return function(e) {\n",
    "                    $('#jsonarea').val(e.target.result);\n",
    "                };\n",
    "            })(files[0]);\n",
    "\n",
    "            reader.readAsText(files[0]);\n",
    "        }\n",
    "    };\n",
    "</script>\n",
    "<p>There are JSON Files for testing in the json folder.</p>\n",
    "<div class=\"load\">\n",
    "    <textarea spellcheck=\"false\" id=\"jsonarea\" placeholder=\"JSON shown here\"></textarea>\n",
    "    <pre id=\"theError\" class=\"error\"></pre>\n",
    "    <span class=\"fileInput\"><input type=\"file\" accept=\".json\" id=\"jsonFile\" onchange=\"a.handleFiles(this.files, 'load')\"></span>\n",
    "</div>"
   ]
  },
  {
   "cell_type": "markdown",
   "metadata": {},
   "source": [
    "## References\n",
    "\n",
    "1. [Theming IPython Jupyter Notebooks](http://sherifsoliman.com/2016/01/11/theming-ipython-jupyter-notebook/)\n",
    "2. [Jupyter goodness](https://martinapugliese.github.io/jupyter-customise/) See the \"Customising the Markdown style\" section.\n",
    "3. [Jupyter Notebook Custom CSS](https://gist.github.com/pmlandwehr/6bd26d0aabab5963a34dcaba1d6a18d4)\n",
    "4. [Customizing the CSS style in the notebook](http://2014.es.pycon.org/static/talks/Hacking%20the%20notebook%20-%20Kiko%20Correoso/07-Styling_the_notebook.slides.html)\n",
    "5. [IPython customizations](https://gist.github.com/jhamrick/66a76322ab8d1ff0f49f) - I had to include this one as it uses the [Solarized](https://ethanschoonover.com/solarized/) color theme!\n",
    "6. [Jupyter Themer](https://github.com/transcranial/jupyter-themer)\n"
   ]
  },
  {
   "cell_type": "code",
   "execution_count": null,
   "metadata": {},
   "outputs": [],
   "source": []
  }
 ],
 "metadata": {
  "kernelspec": {
   "display_name": "Python 3",
   "language": "python",
   "name": "python3"
  },
  "language_info": {
   "codemirror_mode": {
    "name": "ipython",
    "version": 3
   },
   "file_extension": ".py",
   "mimetype": "text/x-python",
   "name": "python",
   "nbconvert_exporter": "python",
   "pygments_lexer": "ipython3",
   "version": "3.6.3"
  }
 },
 "nbformat": 4,
 "nbformat_minor": 2
}
